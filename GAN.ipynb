{
 "cells": [
  {
   "cell_type": "code",
   "execution_count": 19,
   "metadata": {
    "collapsed": true
   },
   "outputs": [],
   "source": [
    "from __future__ import print_function\n",
    "import tensorflow as tf\n",
    "import numpy as np\n",
    "from matplotlib import pyplot as plt\n",
    "%matplotlib inline\n",
    "from tqdm import tqdm\n",
    "from MyHelper import *"
   ]
  },
  {
   "cell_type": "code",
   "execution_count": 4,
   "metadata": {
    "collapsed": false
   },
   "outputs": [],
   "source": [
    "downloadData(filename,loc)"
   ]
  },
  {
   "cell_type": "code",
   "execution_count": 5,
   "metadata": {
    "collapsed": true
   },
   "outputs": [],
   "source": [
    "X,y=getData(filename,loc)"
   ]
  },
  {
   "cell_type": "code",
   "execution_count": 6,
   "metadata": {
    "collapsed": true
   },
   "outputs": [],
   "source": [
    "img_size,nchannels = X.shape[1],X.shape[-1]"
   ]
  },
  {
   "cell_type": "code",
   "execution_count": 52,
   "metadata": {
    "collapsed": true
   },
   "outputs": [],
   "source": [
    "batch_size = 16"
   ]
  },
  {
   "cell_type": "markdown",
   "metadata": {},
   "source": [
    "# TensorFlow Helpers"
   ]
  },
  {
   "cell_type": "code",
   "execution_count": 53,
   "metadata": {
    "collapsed": true
   },
   "outputs": [],
   "source": [
    "def createWeight(size,Name):\n",
    "    return tf.Variable(tf.truncated_normal(size, stddev=0.1),name=Name)\n",
    "\n",
    "def createBias(size,Name):\n",
    "    return tf.Variable(tf.constant(0.1,shape=size),name=Name)\n",
    "\n",
    "def lrelu(x, leak=0.2):\n",
    "    f1 = 0.5 * (1 + leak)\n",
    "    f2 = 0.5 * (1 - leak)\n",
    "    return f1 * x + f2 * abs(x)"
   ]
  },
  {
   "cell_type": "markdown",
   "metadata": {},
   "source": [
    "# Discriminator"
   ]
  },
  {
   "cell_type": "code",
   "execution_count": 54,
   "metadata": {
    "collapsed": false
   },
   "outputs": [],
   "source": [
    "\n",
    "g = tf.Graph()\n",
    "with g.as_default():\n",
    "    img_input = tf.placeholder(tf.float32,shape=(batch_size,img_size,img_size,nchannels))\n",
    "    \n",
    "    W_conv1 = createWeight([5,5,nchannels,64],'d_conv1')\n",
    "    b_conv1 = createWeight([64],'d_b1')\n",
    "    \n",
    "    W_conv2 = createWeight([5,5,64,128],'d_conv2')\n",
    "    b_conv2 = createWeight([128],'d_b2')\n",
    "\n",
    "    W_conv3 = createWeight([5,5,128,256],'d_conv3')\n",
    "    b_conv3 = createWeight([256],'d_b3')\n",
    "\n",
    "    W_conv4 = createWeight([5,5,256,512],'d_conv4')\n",
    "    b_conv4 = createWeight([512],'d_b4')\n",
    "    \n",
    "    W_logit = createWeight([512*2*2,1],'d_W_logit')\n",
    "    b_logit = createWeight([1],'d_b_logit')\n",
    "    \n",
    "    d_var_list = [W_conv1,b_conv1,W_conv2,b_conv2,W_conv3,b_conv3,W_conv4,b_conv4,W_logit,b_logit]\n",
    "    \n",
    "    def D(img_input,var_list):\n",
    "        W_conv1 = var_list[0]\n",
    "        b_conv1 = var_list[1]\n",
    "\n",
    "        W_conv2 = var_list[2]\n",
    "        b_conv2 = var_list[3]\n",
    "\n",
    "        W_conv3 = var_list[4]\n",
    "        b_conv3 = var_list[5]\n",
    "\n",
    "        W_conv4 = var_list[6]\n",
    "        b_conv4 = var_list[7]\n",
    "\n",
    "\n",
    "        conv1 = tf.nn.conv2d(img_input,W_conv1,strides=[1,2,2,1],padding=\"SAME\")\n",
    "        h1 = lrelu(conv1+b_conv1)\n",
    "\n",
    "        conv2 = tf.nn.conv2d(h1,W_conv2,strides=[1,2,2,1],padding=\"SAME\")\n",
    "        h2 = lrelu(conv2+b_conv2)\n",
    "\n",
    "        conv3 = tf.nn.conv2d(h2,W_conv3,strides=[1,2,2,1],padding=\"SAME\")\n",
    "        h3 = lrelu(conv3+b_conv3)\n",
    "\n",
    "        conv4 = tf.nn.conv2d(h3,W_conv4,strides=[1,2,2,1],padding=\"SAME\")\n",
    "        h4 = lrelu(conv4+b_conv4)\n",
    "\n",
    "        h4_s = tf.shape(h4)\n",
    "        h4_flat = tf.reshape(h4,[batch_size,512*(h4_s[1])*(h4_s[2])]) #512*2*2\n",
    "\n",
    "\n",
    "        logit = tf.matmul(h4_flat,W_logit)+b_logit\n",
    "        \n",
    "        return logit\n",
    "    "
   ]
  },
  {
   "cell_type": "markdown",
   "metadata": {},
   "source": [
    "# Random Distribution"
   ]
  },
  {
   "cell_type": "code",
   "execution_count": 55,
   "metadata": {
    "collapsed": true
   },
   "outputs": [],
   "source": [
    "def Z(n,batch_size):\n",
    "    \"\"\"\n",
    "    Uniform random distribution\n",
    "    \n",
    "    Parameters\n",
    "    -------------\n",
    "    n : int\n",
    "        size of the vector to return\n",
    "    \"\"\"\n",
    "    return np.random.uniform(-1, 1, [batch_size,n])"
   ]
  },
  {
   "cell_type": "code",
   "execution_count": 156,
   "metadata": {
    "collapsed": true
   },
   "outputs": [],
   "source": [
    "# n = 100 #from paper\n",
    "n=10"
   ]
  },
  {
   "cell_type": "markdown",
   "metadata": {},
   "source": [
    "# Generator"
   ]
  },
  {
   "cell_type": "code",
   "execution_count": 157,
   "metadata": {
    "collapsed": false
   },
   "outputs": [],
   "source": [
    "\n",
    "with g.as_default():\n",
    "    z_input = tf.placeholder(tf.float32,shape=(batch_size,n))\n",
    "\n",
    "    W_project = createWeight([n,4*4*1024],'g_project')\n",
    "    b_project = createBias([1,4*4*1024],'g_b_project')\n",
    "\n",
    "    W_conv1 = createWeight([4,4,512,1024],'g_conv1')\n",
    "    b_conv1 = createWeight([512],'g_b1')\n",
    "\n",
    "    W_conv2 = createWeight([7,7,256,512],'g_conv2')\n",
    "    b_conv2 = createWeight([256],'g_b2')\n",
    "\n",
    "    W_conv3 = createWeight([14,14,1,256],'g_conv3')\n",
    "    b_conv3 = createWeight([1],'g_b3')\n",
    "    \n",
    "    g_var_list = [W_project,b_project,W_conv1,b_conv1,W_conv2,b_conv2,W_conv3,b_conv3]\n",
    "    \n",
    "    def G(z,var_list):\n",
    "        W_project=var_list[0]\n",
    "        b_project=var_list[1]\n",
    "        \n",
    "        W_conv1 = var_list[2]\n",
    "        b_conv1 = var_list[3]\n",
    "        \n",
    "        W_conv2 = var_list[4]\n",
    "        b_conv2 = var_list[5]\n",
    "        \n",
    "        W_conv3 = var_list[6]\n",
    "        b_conv3 = var_list[7]\n",
    "\n",
    "        prjt = tf.matmul(z,W_project)+b_project\n",
    "        h0 = lrelu(tf.reshape(prjt,shape=(batch_size,4,4,1024)))\n",
    "\n",
    "        conv1 = tf.nn.conv2d_transpose(h0,W_conv1,output_shape=[batch_size,7,7,512],strides=[1,2,2,1])\n",
    "        h1 = lrelu(conv1+b_conv1)\n",
    "\n",
    "        conv2 = tf.nn.conv2d_transpose(h1,W_conv2,output_shape=[batch_size,14,14,256],strides=[1,2,2,1])\n",
    "        h2 = lrelu(conv2+b_conv2)\n",
    "\n",
    "        conv3 = tf.nn.conv2d_transpose(h2,W_conv3,output_shape=[batch_size,28,28,1],strides=[1,2,2,1])\n",
    "        h3 = lrelu(conv3+b_conv3)\n",
    "        return h3"
   ]
  },
  {
   "cell_type": "markdown",
   "metadata": {},
   "source": [
    "# Get Variable lists"
   ]
  },
  {
   "cell_type": "code",
   "execution_count": 158,
   "metadata": {
    "collapsed": false
   },
   "outputs": [
    {
     "name": "stdout",
     "output_type": "stream",
     "text": [
      "[u'd_conv1:0', u'd_b1:0', u'd_conv2:0', u'd_b2:0', u'd_conv3:0', u'd_b3:0', u'd_conv4:0', u'd_b4:0', u'd_W_logit:0', u'd_b_logit:0', u'g_project:0', u'g_b_project:0', u'g_conv1:0', u'g_b1:0', u'g_conv2:0', u'g_b2:0', u'g_conv3:0', u'g_b3:0', u'g_project_1:0', u'g_b_project_1:0', u'g_conv1_1:0', u'g_b1_1:0', u'g_conv2_1:0', u'g_b2_1:0', u'g_conv3_1:0', u'g_b3_1:0']\n"
     ]
    }
   ],
   "source": [
    "with g.as_default():\n",
    "    all_vars = tf.trainable_variables()\n",
    "    a = all_vars[0]\n",
    "    print ([v.name for v in all_vars])"
   ]
  },
  {
   "cell_type": "markdown",
   "metadata": {},
   "source": [
    "# Setup Train"
   ]
  },
  {
   "cell_type": "code",
   "execution_count": 159,
   "metadata": {
    "collapsed": false
   },
   "outputs": [],
   "source": [
    "with g.as_default():\n",
    "    z_input = tf.placeholder(tf.float32,shape=(batch_size,n))\n",
    "    img_input = tf.placeholder(tf.float32,shape=(batch_size,img_size,img_size,nchannels))\n",
    "    \n",
    "    G_z = G(z_input,g_var_list)\n",
    "    D_x = D(img_input,d_var_list)\n",
    "    D_fake = D(G_z,d_var_list)\n",
    "    \n",
    "    \n",
    "    loss = tf.reduce_mean(tf.nn.sigmoid_cross_entropy_with_logits(D_x,tf.ones(shape=[batch_size,1]))+\\\n",
    "            tf.nn.sigmoid_cross_entropy_with_logits(D_fake,tf.zeros(shape=[batch_size,1])))\n",
    "        \n",
    "    loss_gen = tf.reduce_mean(tf.nn.sigmoid_cross_entropy_with_logits(D_fake,tf.ones([batch_size,1])))\n",
    "    \n",
    "    opt_d = tf.train.AdamOptimizer(learning_rate=1e-4)\n",
    "    opt_g = tf.train.AdamOptimizer(learning_rate=1e-4)\n",
    "    \n",
    "    d_grads = opt_d.compute_gradients(loss,var_list=d_var_list)\n",
    "    d_minimize = opt_d.apply_gradients(d_grads)\n",
    "    \n",
    "    g_grads = opt_g.compute_gradients(loss_gen,var_list=g_var_list)\n",
    "    g_max = opt_g.apply_gradients(g_grads)\n"
   ]
  },
  {
   "cell_type": "markdown",
   "metadata": {},
   "source": [
    "# Other"
   ]
  },
  {
   "cell_type": "code",
   "execution_count": 160,
   "metadata": {
    "collapsed": false
   },
   "outputs": [
    {
     "name": "stdout",
     "output_type": "stream",
     "text": [
      "WARNING:tensorflow:From <ipython-input-160-f4afde653f64>:2 in <module>.: initialize_all_variables (from tensorflow.python.ops.variables) is deprecated and will be removed after 2017-03-02.\n",
      "Instructions for updating:\n",
      "Use `tf.global_variables_initializer` instead.\n"
     ]
    }
   ],
   "source": [
    "with g.as_default():\n",
    "    init = tf.initialize_all_variables()"
   ]
  },
  {
   "cell_type": "markdown",
   "metadata": {},
   "source": [
    "# Session Trains"
   ]
  },
  {
   "cell_type": "code",
   "execution_count": 184,
   "metadata": {
    "collapsed": true
   },
   "outputs": [],
   "source": [
    "sess = tf.Session(graph=g)\n",
    "sess.run(init)"
   ]
  },
  {
   "cell_type": "code",
   "execution_count": 230,
   "metadata": {
    "collapsed": true
   },
   "outputs": [],
   "source": [
    "losses = []\n",
    "losses_g = []"
   ]
  },
  {
   "cell_type": "code",
   "execution_count": 231,
   "metadata": {
    "collapsed": false
   },
   "outputs": [
    {
     "data": {
      "text/plain": [
       "3750.0"
      ]
     },
     "execution_count": 231,
     "metadata": {},
     "output_type": "execute_result"
    }
   ],
   "source": [
    "X.shape[0]/(1.0*batch_size)"
   ]
  },
  {
   "cell_type": "code",
   "execution_count": null,
   "metadata": {
    "collapsed": false
   },
   "outputs": [
    {
     "name": "stderr",
     "output_type": "stream",
     "text": [
      "\n",
      "\n",
      "  0%|          | 0/3700 [00:00<?, ?it/s]\u001b[A\u001b[A\n",
      "\n",
      "  0%|          | 1/3700 [00:00<13:33,  4.55it/s]\u001b[A\u001b[A\n",
      "\n",
      "  0%|          | 2/3700 [00:00<13:20,  4.62it/s]\u001b[A\u001b[A\n",
      "\n",
      "  0%|          | 3/3700 [00:00<13:10,  4.68it/s]\u001b[A\u001b[A\n",
      "\n",
      "  0%|          | 4/3700 [00:00<13:02,  4.72it/s]\u001b[A\u001b[A\n",
      "\n",
      "  0%|          | 5/3700 [00:01<12:54,  4.77it/s]\u001b[A\u001b[A\n",
      "\n",
      "  0%|          | 6/3700 [00:01<12:48,  4.81it/s]\u001b[A\u001b[A\n",
      "\n",
      "  0%|          | 7/3700 [00:01<12:50,  4.79it/s]\u001b[A\u001b[A\n",
      "\n",
      "  0%|          | 8/3700 [00:01<12:46,  4.82it/s]\u001b[A\u001b[A\n",
      "\n",
      "  0%|          | 9/3700 [00:01<12:43,  4.83it/s]\u001b[A\u001b[A\n",
      "\n",
      "  0%|          | 10/3700 [00:02<12:41,  4.84it/s]\u001b[A\u001b[A\n",
      "\n",
      "  0%|          | 11/3700 [00:02<12:42,  4.84it/s]\u001b[A\u001b[A\n",
      "\n",
      "  0%|          | 12/3700 [00:02<12:41,  4.84it/s]\u001b[A\u001b[A\n",
      "\n",
      "  0%|          | 13/3700 [00:02<12:42,  4.84it/s]\u001b[A\u001b[A\n",
      "\n",
      "  0%|          | 14/3700 [00:02<12:42,  4.84it/s]\u001b[A\u001b[A\n",
      "\n",
      "  0%|          | 15/3700 [00:03<12:45,  4.81it/s]\u001b[A\u001b[A\n",
      "\n",
      "  0%|          | 16/3700 [00:03<12:47,  4.80it/s]\u001b[A\u001b[A\n",
      "\n",
      "  0%|          | 17/3700 [00:03<12:48,  4.79it/s]\u001b[A\u001b[A\n",
      "\n",
      "  0%|          | 18/3700 [00:03<12:45,  4.81it/s]\u001b[A\u001b[A\n",
      "\n",
      "  1%|          | 19/3700 [00:03<12:44,  4.81it/s]\u001b[A\u001b[A\n",
      "\n",
      "  1%|          | 20/3700 [00:04<12:48,  4.79it/s]\u001b[A\u001b[A\n",
      "\n",
      "  1%|          | 21/3700 [00:04<13:20,  4.59it/s]\u001b[A\u001b[A\n",
      "\n",
      "  1%|          | 22/3700 [00:04<13:14,  4.63it/s]\u001b[A\u001b[A\n",
      "\n",
      "  1%|          | 23/3700 [00:04<13:28,  4.55it/s]\u001b[A\u001b[A\n",
      "\n",
      "  1%|          | 24/3700 [00:05<13:23,  4.58it/s]\u001b[A\u001b[A\n",
      "\n",
      "  1%|          | 25/3700 [00:05<13:33,  4.52it/s]\u001b[A\u001b[A\n",
      "\n",
      "  1%|          | 26/3700 [00:05<13:29,  4.54it/s]\u001b[A\u001b[A\n",
      "\n",
      "  1%|          | 27/3700 [00:05<13:12,  4.64it/s]\u001b[A\u001b[A\n",
      "\n",
      "  1%|          | 28/3700 [00:05<13:29,  4.54it/s]\u001b[A\u001b[A\n",
      "\u001b[AException in thread Thread-25:\n",
      "Traceback (most recent call last):\n",
      "  File \"/home/floptical/anaconda2/envs/tensorflow/lib/python2.7/threading.py\", line 801, in __bootstrap_inner\n",
      "    self.run()\n",
      "  File \"/home/floptical/anaconda2/envs/tensorflow/lib/python2.7/site-packages/tqdm/_tqdm.py\", line 103, in run\n",
      "    for instance in self.tqdm_cls._instances:\n",
      "  File \"/home/floptical/anaconda2/envs/tensorflow/lib/python2.7/_weakrefset.py\", line 60, in __iter__\n",
      "    for itemref in self.data:\n",
      "RuntimeError: Set changed size during iteration\n",
      "\n",
      "\n",
      "\n",
      "  1%|          | 29/3700 [00:06<13:48,  4.43it/s]\u001b[A\u001b[A\n",
      "\n",
      "  1%|          | 30/3700 [00:06<13:34,  4.51it/s]\u001b[A\u001b[A\n",
      "\n",
      "  1%|          | 31/3700 [00:06<13:16,  4.61it/s]\u001b[A\u001b[A\n",
      "\n",
      "  1%|          | 32/3700 [00:06<13:08,  4.65it/s]\u001b[A\u001b[A\n",
      "\n",
      "  1%|          | 33/3700 [00:07<12:58,  4.71it/s]\u001b[A\u001b[A\n",
      "\n",
      "  1%|          | 34/3700 [00:07<12:57,  4.71it/s]\u001b[A\u001b[A\n",
      "\n",
      "  1%|          | 35/3700 [00:07<12:51,  4.75it/s]\u001b[A\u001b[A\n",
      "\n",
      "  1%|          | 36/3700 [00:07<12:45,  4.79it/s]\u001b[A\u001b[A\n",
      "\n",
      "  1%|          | 37/3700 [00:07<13:17,  4.59it/s]\u001b[A\u001b[A\n",
      "\n",
      "  1%|          | 38/3700 [00:08<13:21,  4.57it/s]\u001b[A\u001b[A\n",
      "\n",
      "  1%|          | 39/3700 [00:08<13:07,  4.65it/s]\u001b[A\u001b[A\n",
      "\n",
      "  1%|          | 40/3700 [00:08<12:56,  4.72it/s]\u001b[A\u001b[A\n",
      "\n",
      "  1%|          | 41/3700 [00:08<12:49,  4.76it/s]\u001b[A\u001b[A\n",
      "\n",
      "  1%|          | 42/3700 [00:08<12:42,  4.79it/s]\u001b[A\u001b[A\n",
      "\n",
      "  1%|          | 43/3700 [00:09<12:37,  4.83it/s]\u001b[A\u001b[A\n",
      "\n",
      "  1%|          | 44/3700 [00:09<12:35,  4.84it/s]\u001b[A\u001b[A\n",
      "\n",
      "  1%|          | 45/3700 [00:09<12:41,  4.80it/s]\u001b[A\u001b[A\n",
      "\n",
      "  1%|          | 46/3700 [00:09<13:14,  4.60it/s]\u001b[A\u001b[A\n",
      "\n",
      "  1%|▏         | 47/3700 [00:10<13:39,  4.46it/s]\u001b[A\u001b[A\n",
      "\n",
      "  1%|▏         | 48/3700 [00:10<13:51,  4.39it/s]\u001b[A\u001b[A\n",
      "\n",
      "  1%|▏         | 49/3700 [00:10<13:58,  4.35it/s]\u001b[A\u001b[A\n",
      "\n",
      "  1%|▏         | 50/3700 [00:10<13:57,  4.36it/s]\u001b[A\u001b[A\n",
      "\n",
      "  1%|▏         | 51/3700 [00:10<14:07,  4.30it/s]\u001b[A\u001b[A\n",
      "\n",
      "  1%|▏         | 52/3700 [00:11<13:38,  4.46it/s]\u001b[A\u001b[A\n",
      "\n",
      "  1%|▏         | 53/3700 [00:11<13:20,  4.56it/s]\u001b[A\u001b[A\n",
      "\n",
      "  1%|▏         | 54/3700 [00:11<13:05,  4.64it/s]\u001b[A\u001b[A\n",
      "\n",
      "  1%|▏         | 55/3700 [00:11<12:56,  4.70it/s]\u001b[A\u001b[A\n",
      "\n",
      "  2%|▏         | 56/3700 [00:11<12:48,  4.74it/s]\u001b[A\u001b[A\n",
      "\n",
      "  2%|▏         | 57/3700 [00:12<12:44,  4.76it/s]\u001b[A\u001b[A\n",
      "\n",
      "  2%|▏         | 58/3700 [00:12<12:40,  4.79it/s]\u001b[A\u001b[A\n",
      "\n",
      "  2%|▏         | 59/3700 [00:12<12:33,  4.83it/s]\u001b[A\u001b[A\n",
      "\n",
      "  2%|▏         | 60/3700 [00:12<12:29,  4.85it/s]\u001b[A\u001b[A\n",
      "\n",
      "  2%|▏         | 61/3700 [00:13<12:26,  4.88it/s]\u001b[A\u001b[A\n",
      "\n",
      "  2%|▏         | 62/3700 [00:13<12:36,  4.81it/s]\u001b[A\u001b[A\n",
      "\n",
      "  2%|▏         | 63/3700 [00:13<12:32,  4.83it/s]\u001b[A\u001b[A\n",
      "\n",
      "  2%|▏         | 64/3700 [00:13<12:32,  4.83it/s]\u001b[A\u001b[A\n",
      "\n",
      "  2%|▏         | 65/3700 [00:13<12:39,  4.79it/s]\u001b[A\u001b[A\n",
      "\n",
      "  2%|▏         | 66/3700 [00:14<12:47,  4.73it/s]\u001b[A\u001b[A\n",
      "\n",
      "  2%|▏         | 67/3700 [00:14<12:53,  4.70it/s]\u001b[A\u001b[A\n",
      "\n",
      "  2%|▏         | 68/3700 [00:14<12:48,  4.72it/s]\u001b[A\u001b[A\n",
      "\n",
      "  2%|▏         | 69/3700 [00:14<12:42,  4.76it/s]\u001b[A\u001b[A\n",
      "\n",
      "  2%|▏         | 70/3700 [00:14<12:40,  4.77it/s]"
     ]
    }
   ],
   "source": [
    "num_steps = 3700\n",
    "extra = 3\n",
    "num_epochs = 5\n",
    "for _ in xrange(num_epochs):\n",
    "    for i in tqdm(xrange(num_steps)):\n",
    "        img_batch = X[i:i+batch_size,:,:,:]\n",
    "        fd = {z_input:Z(n,batch_size),img_input:img_batch}\n",
    "        l,_ = sess.run([loss,d_minimize],feed_dict=fd)\n",
    "        for _ in xrange(extra):\n",
    "            lg,_ = sess.run([loss_gen,g_max],feed_dict=fd)\n",
    "        losses.append(l),losses_g.append(lg)\n",
    "G_test = sess.run(G_z,feed_dict=fd)"
   ]
  },
  {
   "cell_type": "code",
   "execution_count": 216,
   "metadata": {
    "collapsed": true
   },
   "outputs": [],
   "source": [
    "G_test = sess.run(G_z,feed_dict=fd)"
   ]
  },
  {
   "cell_type": "code",
   "execution_count": 225,
   "metadata": {
    "collapsed": false
   },
   "outputs": [
    {
     "data": {
      "text/plain": [
       "<matplotlib.image.AxesImage at 0x7f55a3cd97d0>"
      ]
     },
     "execution_count": 225,
     "metadata": {},
     "output_type": "execute_result"
    },
    {
     "data": {
      "image/png": "[encoded data removed]",
      "text/plain": [
       "<matplotlib.figure.Figure at 0x7f55a3d42f50>"
      ]
     },
     "metadata": {},
     "output_type": "display_data"
    }
   ],
   "source": [
    "plt.imshow(G_test[9,:,:,0],cmap='Greys')"
   ]
  },
  {
   "cell_type": "code",
   "execution_count": 226,
   "metadata": {
    "collapsed": false
   },
   "outputs": [
    {
     "data": {
      "text/plain": [
       "<matplotlib.legend.Legend at 0x7f55a3cf4e90>"
      ]
     },
     "execution_count": 226,
     "metadata": {},
     "output_type": "execute_result"
    },
    {
     "data": {
      "image/png": "[encoded data removed]",
      "text/plain": [
       "<matplotlib.figure.Figure at 0x7f55a3cf4b10>"
      ]
     },
     "metadata": {},
     "output_type": "display_data"
    }
   ],
   "source": [
    "plt.plot(np.arange(len(losses)),losses,np.arange(len(losses)),losses_g)\n",
    "plt.legend(['discriminator loss','generator loss'])\n",
    "# plt.ylim([0,10e])"
   ]
  },
  {
   "cell_type": "code",
   "execution_count": 227,
   "metadata": {
    "collapsed": false
   },
   "outputs": [
    {
     "data": {
      "text/plain": [
       "[<matplotlib.lines.Line2D at 0x7f55a3b6b710>]"
      ]
     },
     "execution_count": 227,
     "metadata": {},
     "output_type": "execute_result"
    },
    {
     "data": {
      "image/png": "[encoded data removed]",
      "text/plain": [
       "<matplotlib.figure.Figure at 0x7f55a3be2990>"
      ]
     },
     "metadata": {},
     "output_type": "display_data"
    }
   ],
   "source": [
    "plt.plot(losses_g)"
   ]
  },
  {
   "cell_type": "code",
   "execution_count": 126,
   "metadata": {
    "collapsed": false
   },
   "outputs": [
    {
     "data": {
      "text/plain": [
       "[5429.8491,\n",
       " 6239.2998,\n",
       " 5484.2803,\n",
       " 4209.2139,\n",
       " 3033.0527,\n",
       " 855.46271,\n",
       " 6919.519,\n",
       " 7223.3745,\n",
       " 5083.501,\n",
       " 3239.7036,\n",
       " 7122.1396,\n",
       " 5545.3398,\n",
       " 5211.2744,\n",
       " 8011.7881,\n",
       " 5617.4731,\n",
       " 7064.8613,\n",
       " 7305.2578,\n",
       " 7579.1133,\n",
       " 8391.3535,\n",
       " 7579.1025,\n",
       " 6998.3418,\n",
       " 5992.2964,\n",
       " 5241.3003,\n",
       " 8169.395,\n",
       " 6496.4961,\n",
       " 6788.7388,\n",
       " 5731.458,\n",
       " 3898.353,\n",
       " 2490.6157,\n",
       " 2032.3029,\n",
       " 2788.3765,\n",
       " 4697.8115,\n",
       " 6311.3882,\n",
       " 6120.293,\n",
       " 4070.3896,\n",
       " 2567.5789,\n",
       " 5207.5195,\n",
       " 5740.4209,\n",
       " 9470.5,\n",
       " 11040.782,\n",
       " 8826.5078,\n",
       " 8955.9365,\n",
       " 9280.5645,\n",
       " 13343.891,\n",
       " 13383.49,\n",
       " 14940.314,\n",
       " 13436.045,\n",
       " 13796.995,\n",
       " 14542.17,\n",
       " 15346.616,\n",
       " 15360.256,\n",
       " 17005.947,\n",
       " 14803.508,\n",
       " 16274.381,\n",
       " 16324.951,\n",
       " 16131.113,\n",
       " 15587.268,\n",
       " 15032.152,\n",
       " 15573.194,\n",
       " 14213.281,\n",
       " 14445.229,\n",
       " 13972.15,\n",
       " 13375.49,\n",
       " 12803.287,\n",
       " 12488.998,\n",
       " 11795.303,\n",
       " 11335.32,\n",
       " 11117.698,\n",
       " 10629.297,\n",
       " 9874.3506,\n",
       " 10507.73,\n",
       " 10390.645,\n",
       " 10443.236,\n",
       " 10729.788,\n",
       " 10580.877,\n",
       " 10987.985,\n",
       " 11385.246,\n",
       " 10903.842,\n",
       " 11051.338,\n",
       " 11512.404,\n",
       " 10562.338,\n",
       " 10034.512,\n",
       " 10532.664,\n",
       " 10148.935,\n",
       " 8823.1406,\n",
       " 8629.248,\n",
       " 8180.0815,\n",
       " 8506.1426,\n",
       " 7595.6206,\n",
       " 6966.9795,\n",
       " 6327.3301,\n",
       " 6392.0093,\n",
       " 6799.29,\n",
       " 6919.332,\n",
       " 7389.1533,\n",
       " 7807.502,\n",
       " 8443.7168,\n",
       " 8256.3594,\n",
       " 7802.1299,\n",
       " 7850.6138,\n",
       " 8342.4814,\n",
       " 7637.4375,\n",
       " 7883.2861,\n",
       " 7919.5312,\n",
       " 8163.5483,\n",
       " 7893.8647,\n",
       " 8512.2383,\n",
       " 8043.3569,\n",
       " 8322.5752,\n",
       " 7000.5405,\n",
       " 7162.9912,\n",
       " 7861.5601,\n",
       " 7117.6782,\n",
       " 7549.396,\n",
       " 8072.751,\n",
       " 8269.5781,\n",
       " 8554.5654,\n",
       " 8338.2012,\n",
       " 8114.5576,\n",
       " 8150.1792,\n",
       " 8169.5771,\n",
       " 8036.3105,\n",
       " 7657.5469,\n",
       " 7099.3979,\n",
       " 7231.1006,\n",
       " 7129.5322,\n",
       " 6723.5996,\n",
       " 7788.0791,\n",
       " 6816.4492,\n",
       " 7384.9766,\n",
       " 7689.4531,\n",
       " 7834.7524,\n",
       " 7347.3813,\n",
       " 7670.6631,\n",
       " 7727.8203,\n",
       " 7924.7861,\n",
       " 8006.8735,\n",
       " 8117.7456,\n",
       " 8285.9814,\n",
       " 8732.5332,\n",
       " 9090.3232,\n",
       " 9500.2227,\n",
       " 9511.5801,\n",
       " 9799.0957,\n",
       " 10024.901,\n",
       " 9919.5518,\n",
       " 9967.3887,\n",
       " 9743.8281,\n",
       " 9761.7285,\n",
       " 9866.8096,\n",
       " 9668.7422,\n",
       " 9217.6289,\n",
       " 9278.5215,\n",
       " 9614.0469,\n",
       " 9997.8047,\n",
       " 9929.1914,\n",
       " 9828.5566,\n",
       " 9677.2314,\n",
       " 9545.9268,\n",
       " 8998.0781,\n",
       " 9236.5312,\n",
       " 9403.9209,\n",
       " 8372.3662,\n",
       " 8834.4141,\n",
       " 9183.9277,\n",
       " 8911.875,\n",
       " 9001.5088,\n",
       " 9201.9619,\n",
       " 8890.8525,\n",
       " 8455.5586,\n",
       " 8236.1133,\n",
       " 8339.1816,\n",
       " 8229.9746,\n",
       " 8296.1143,\n",
       " 8410.3857,\n",
       " 8645.9365,\n",
       " 8205.1523,\n",
       " 8140.7783,\n",
       " 7833.4438,\n",
       " 7280.0762,\n",
       " 6698.5234,\n",
       " 6217.0669,\n",
       " 5796.0898,\n",
       " 5904.1602,\n",
       " 6139.9668,\n",
       " 5804.5024,\n",
       " 5923.6592,\n",
       " 5696.5996,\n",
       " 5492.3271,\n",
       " 5324.2534,\n",
       " 5437.7104,\n",
       " 4972.5249,\n",
       " 5088.4902,\n",
       " 5157.8096,\n",
       " 5567.3398,\n",
       " 5144.0444,\n",
       " 5110.377,\n",
       " 5615.8721,\n",
       " 6344.5444,\n",
       " 6302.9316]"
      ]
     },
     "execution_count": 126,
     "metadata": {},
     "output_type": "execute_result"
    }
   ],
   "source": [
    "losses"
   ]
  },
  {
   "cell_type": "code",
   "execution_count": 127,
   "metadata": {
    "collapsed": false
   },
   "outputs": [
    {
     "data": {
      "text/plain": [
       "[0.0,\n",
       " 0.0,\n",
       " 0.0,\n",
       " 0.0,\n",
       " 1.7651607e-10,\n",
       " 0.0,\n",
       " 0.0,\n",
       " 0.0,\n",
       " 0.0,\n",
       " 0.0,\n",
       " 0.0,\n",
       " 0.0,\n",
       " 0.0,\n",
       " 0.0,\n",
       " 0.0,\n",
       " 0.0,\n",
       " 0.0,\n",
       " 0.0,\n",
       " 0.0,\n",
       " 0.0,\n",
       " 0.0,\n",
       " 0.0,\n",
       " 0.0,\n",
       " 0.0,\n",
       " 0.0,\n",
       " 0.0,\n",
       " 0.0,\n",
       " 0.0,\n",
       " 0.0,\n",
       " 0.0,\n",
       " 0.0,\n",
       " 0.0,\n",
       " 0.0,\n",
       " 0.0,\n",
       " 0.0,\n",
       " 0.0,\n",
       " 0.0,\n",
       " 0.0,\n",
       " 0.0,\n",
       " 0.0,\n",
       " 0.0,\n",
       " 1.470021e-34,\n",
       " 0.0,\n",
       " 0.0,\n",
       " 0.0,\n",
       " 9.7471931e-30,\n",
       " 0.0,\n",
       " 0.0,\n",
       " 0.0,\n",
       " 54.158806,\n",
       " 0.0,\n",
       " 0.0,\n",
       " 0.0,\n",
       " 75.61834,\n",
       " 0.0,\n",
       " 53.419228,\n",
       " 35.514282,\n",
       " 0.0,\n",
       " 107.49906,\n",
       " 0.0,\n",
       " 0.0,\n",
       " 0.0,\n",
       " 5.9781828,\n",
       " 5.0773557e-33,\n",
       " 0.0,\n",
       " 0.0,\n",
       " 3.9683886e-35,\n",
       " 0.0,\n",
       " 6.6764784e-25,\n",
       " 0.0,\n",
       " 0.0,\n",
       " 4.0225903e-26,\n",
       " 0.0,\n",
       " 88.878433,\n",
       " 0.0,\n",
       " 20.965319,\n",
       " 0.0,\n",
       " 0.0,\n",
       " 0.0,\n",
       " 43.518661,\n",
       " 0.0,\n",
       " 0.0,\n",
       " 0.0,\n",
       " 7.8609362,\n",
       " 0.0,\n",
       " 94.999069,\n",
       " 0.0,\n",
       " 0.0,\n",
       " 92.856155,\n",
       " 0.0,\n",
       " 17.799532,\n",
       " 0.0,\n",
       " 4.1477353e-32,\n",
       " 1.5246598e-35,\n",
       " 0.0,\n",
       " 36.469238,\n",
       " 125.12164,\n",
       " 115.45118,\n",
       " 46.415848,\n",
       " 20.130901,\n",
       " 23.996399,\n",
       " 0.0,\n",
       " 3.7359939,\n",
       " 44.282265,\n",
       " 28.553059,\n",
       " 0.0,\n",
       " 29.030682,\n",
       " 0.0,\n",
       " 0.0,\n",
       " 0.0,\n",
       " 0.0,\n",
       " 3.026547,\n",
       " 46.720116,\n",
       " 60.689857,\n",
       " 64.518105,\n",
       " 24.691814,\n",
       " 9.1266842,\n",
       " 0.0,\n",
       " 26.899185,\n",
       " 0.0,\n",
       " 16.593082,\n",
       " 1.7360912e-27,\n",
       " 58.933868,\n",
       " 24.299404,\n",
       " 110.66797,\n",
       " 0.0,\n",
       " 0.0,\n",
       " 0.0,\n",
       " 46.576019,\n",
       " 0.0,\n",
       " 14.636092,\n",
       " 31.909889,\n",
       " 91.044968,\n",
       " 60.942444,\n",
       " 224.22604,\n",
       " 2.3587112,\n",
       " 0.0,\n",
       " 38.066925,\n",
       " 512.64563,\n",
       " 134.0677,\n",
       " 0.0,\n",
       " 4.6529808,\n",
       " 350.36746,\n",
       " 177.33208,\n",
       " 53.105087,\n",
       " 3.5006335,\n",
       " 0.0,\n",
       " 3.2552124e-38,\n",
       " 0.0,\n",
       " 0.0,\n",
       " 0.0,\n",
       " 0.0,\n",
       " 26.416939,\n",
       " 73.767838,\n",
       " 0.0,\n",
       " 19.703081,\n",
       " 0.0,\n",
       " 0.0,\n",
       " 43.781746,\n",
       " 0.0,\n",
       " 0.0,\n",
       " 43.940044,\n",
       " 227.88074,\n",
       " 33.562473,\n",
       " 113.95842,\n",
       " 6.3905702,\n",
       " 23.48966,\n",
       " 0.0,\n",
       " 25.263336,\n",
       " 2.541887,\n",
       " 0.0,\n",
       " 0.0,\n",
       " 102.67584,\n",
       " 47.539536,\n",
       " 0.0,\n",
       " 29.687023,\n",
       " 11.743441,\n",
       " 3.9568129,\n",
       " 51.029762,\n",
       " 0.0,\n",
       " 0.0,\n",
       " 0.0,\n",
       " 0.0,\n",
       " 0.0,\n",
       " 21.964733,\n",
       " 0.0,\n",
       " 0.0,\n",
       " 32.286736,\n",
       " 28.579287,\n",
       " 0.0,\n",
       " 0.0,\n",
       " 40.281563,\n",
       " 22.337341,\n",
       " 0.0,\n",
       " 5.473184e-32,\n",
       " 89.247025,\n",
       " 0.0,\n",
       " 0.0,\n",
       " 91.90715,\n",
       " 1.7197013e-11]"
      ]
     },
     "execution_count": 127,
     "metadata": {},
     "output_type": "execute_result"
    }
   ],
   "source": [
    "losses_g"
   ]
  },
  {
   "cell_type": "code",
   "execution_count": null,
   "metadata": {
    "collapsed": true
   },
   "outputs": [],
   "source": []
  }
 ],
 "metadata": {
  "anaconda-cloud": {},
  "kernelspec": {
   "display_name": "Python [conda env:tensorflow]",
   "language": "python",
   "name": "conda-env-tensorflow-py"
  },
  "language_info": {
   "codemirror_mode": {
    "name": "ipython",
    "version": 2
   },
   "file_extension": ".py",
   "mimetype": "text/x-python",
   "name": "python",
   "nbconvert_exporter": "python",
   "pygments_lexer": "ipython2",
   "version": "2.7.12"
  }
 },
 "nbformat": 4,
 "nbformat_minor": 2
}
