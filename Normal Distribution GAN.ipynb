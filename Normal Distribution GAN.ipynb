{
 "cells": [
  {
   "cell_type": "code",
   "execution_count": 1,
   "metadata": {},
   "outputs": [
    {
     "name": "stderr",
     "output_type": "stream",
     "text": [
      "/Users/tmulc/anaconda2/envs/tensorflow/lib/python2.7/site-packages/matplotlib/font_manager.py:273: UserWarning: Matplotlib is building the font cache using fc-list. This may take a moment.\n",
      "  warnings.warn('Matplotlib is building the font cache using fc-list. This may take a moment.')\n"
     ]
    }
   ],
   "source": [
    "import tensorflow as tf\n",
    "import numpy as np\n",
    "from tqdm import tqdm\n",
    "from matplotlib import pyplot as plt\n",
    "%matplotlib inline"
   ]
  },
  {
   "cell_type": "markdown",
   "metadata": {},
   "source": [
    "# Generate Gaussian data\n",
    "\n",
    "Want a distribution data that is normal\n",
    "\n",
    "$y \\sim N(\\mu,\\sigma^2)$"
   ]
  },
  {
   "cell_type": "code",
   "execution_count": 2,
   "metadata": {
    "collapsed": true
   },
   "outputs": [],
   "source": [
    "num_points = 100000\n",
    "mu = 0\n",
    "sigma = 1.0 \n",
    "\n",
    "y = np.random.normal(mu,sigma,num_points)\n",
    "Y = np.expand_dims(y,1)\n",
    "#y1 = np.random.normal(mu,sigma,num_points)\n"
   ]
  },
  {
   "cell_type": "code",
   "execution_count": 3,
   "metadata": {},
   "outputs": [
    {
     "data": {
      "image/png": "[encoded data removed]",
      "text/plain": [
       "<matplotlib.figure.Figure at 0x113787a50>"
      ]
     },
     "metadata": {},
     "output_type": "display_data"
    }
   ],
   "source": [
    "#plt.hist2d(y,y1,bins=100)\n",
    "plt.hist(y,bins=50,normed=True)\n",
    "plt.show()"
   ]
  },
  {
   "cell_type": "markdown",
   "metadata": {},
   "source": [
    "# Latent space"
   ]
  },
  {
   "cell_type": "code",
   "execution_count": 4,
   "metadata": {
    "collapsed": true
   },
   "outputs": [],
   "source": [
    "z_size=10\n",
    "def Z(batch_size,z_size=10):\n",
    "    return np.random.uniform(-1.,1.,size=[batch_size,z_size])"
   ]
  },
  {
   "cell_type": "markdown",
   "metadata": {},
   "source": [
    "# Miscellanous"
   ]
  },
  {
   "cell_type": "code",
   "execution_count": 5,
   "metadata": {
    "collapsed": true
   },
   "outputs": [],
   "source": [
    "batch_size = 500"
   ]
  },
  {
   "cell_type": "markdown",
   "metadata": {},
   "source": [
    "# discriminator"
   ]
  },
  {
   "cell_type": "code",
   "execution_count": 6,
   "metadata": {
    "collapsed": true
   },
   "outputs": [],
   "source": [
    "g = tf.Graph()\n",
    "num_nodes_d=1000\n",
    "with g.as_default():\n",
    "    data_input = tf.placeholder(tf.float32,shape=[batch_size,1])\n",
    "    \n",
    "    W_d1 = tf.Variable(tf.truncated_normal([1,num_nodes_d]))\n",
    "    b_d1 = tf.Variable(tf.zeros([num_nodes_d]))\n",
    "    W_d2 = tf.Variable(tf.truncated_normal([num_nodes_d,1]))\n",
    "    b_d2 = tf.Variable(tf.zeros([1]))\n",
    "    \n",
    "    d_vars = [W_d1,b_d1,W_d2,b_d2]\n",
    "    def D(x,var_l):\n",
    "        W1,b1 = var_l[0],var_l[1]\n",
    "        W2,b2 = var_l[2],var_l[3]\n",
    "        logit=tf.matmul(tf.sigmoid(tf.matmul(x,W1)+b1),W2)+b2\n",
    "        return logit"
   ]
  },
  {
   "cell_type": "markdown",
   "metadata": {},
   "source": [
    "# generator"
   ]
  },
  {
   "cell_type": "code",
   "execution_count": 7,
   "metadata": {
    "collapsed": true
   },
   "outputs": [],
   "source": [
    "num_nodes_g=1000\n",
    "with g.as_default():\n",
    "    z_input = tf.placeholder(tf.float32,shape=[batch_size,z_size])\n",
    "    \n",
    "    W_g1 = tf.Variable(tf.truncated_normal([z_size,num_nodes_g]))\n",
    "    b_g1 = tf.Variable(tf.zeros([num_nodes_g]))\n",
    "    W_g2 = tf.Variable(tf.truncated_normal([num_nodes_g,1]))\n",
    "    b_g2 = tf.Variable(tf.zeros([1]))\n",
    "    \n",
    "    g_vars =[W_g1,b_g1,W_g2,b_g2]\n",
    "    \n",
    "    def G(z,var_l):\n",
    "        W1,b1 = var_l[0],var_l[1]\n",
    "        W2,b2 = var_l[2],var_l[3]\n",
    "        \n",
    "        l1 = tf.sigmoid(tf.matmul(z,W1)+b1)\n",
    "        g = tf.matmul(l1,W2)+b2\n",
    "        \n",
    "        return g"
   ]
  },
  {
   "cell_type": "markdown",
   "metadata": {},
   "source": [
    "# Train"
   ]
  },
  {
   "cell_type": "code",
   "execution_count": 8,
   "metadata": {
    "collapsed": true
   },
   "outputs": [],
   "source": [
    "with g.as_default():\n",
    "    D_data = D(data_input,d_vars)\n",
    "    G_z = G(z_input,g_vars)\n",
    "    D_g = D(G_z,d_vars)\n",
    "    \n",
    "    loss_d =-tf.reduce_mean(tf.log(tf.sigmoid(D_data)) +tf.log(1- tf.sigmoid(D_g)))\n",
    "    loss_g = tf.reduce_mean(tf.log(1- tf.sigmoid(D_g)))\n",
    "    \n",
    "    opt = tf.train.AdamOptimizer(learning_rate=.00002,beta1=.5)\n",
    "    \n",
    "    train_d = opt.minimize(loss_d,var_list=d_vars)\n",
    "    train_g = opt.minimize(loss_g,var_list=g_vars)"
   ]
  },
  {
   "cell_type": "markdown",
   "metadata": {},
   "source": [
    "# Other ops"
   ]
  },
  {
   "cell_type": "code",
   "execution_count": 9,
   "metadata": {
    "collapsed": true
   },
   "outputs": [],
   "source": [
    "with g.as_default():\n",
    "    init = tf.initialize_all_variables()"
   ]
  },
  {
   "cell_type": "markdown",
   "metadata": {},
   "source": [
    "# Train Session"
   ]
  },
  {
   "cell_type": "code",
   "execution_count": 10,
   "metadata": {
    "collapsed": true
   },
   "outputs": [],
   "source": [
    "sess = tf.Session(graph = g)\n",
    "sess.run(init)"
   ]
  },
  {
   "cell_type": "code",
   "execution_count": 11,
   "metadata": {
    "collapsed": true
   },
   "outputs": [],
   "source": [
    "epoch_size = Y.shape[0]/batch_size"
   ]
  },
  {
   "cell_type": "code",
   "execution_count": 12,
   "metadata": {
    "collapsed": true
   },
   "outputs": [],
   "source": [
    "lossesd,lossesg = [],[]"
   ]
  },
  {
   "cell_type": "code",
   "execution_count": 13,
   "metadata": {},
   "outputs": [
    {
     "name": "stderr",
     "output_type": "stream",
     "text": [
      "100%|██████████| 50/50 [01:56<00:00,  2.16s/it]\n"
     ]
    }
   ],
   "source": [
    "num_epochs = 50\n",
    "for _ in tqdm(range(num_epochs)):\n",
    "    for s in range(epoch_size):\n",
    "        fd = {data_input:Y[s*batch_size:s*batch_size+batch_size,:],z_input:Z(batch_size,z_size)}\n",
    "        ld,_=sess.run([loss_d,train_d],feed_dict=fd)\n",
    "        lg,_=sess.run([loss_g,train_g],feed_dict=fd)\n",
    "        lossesd.append(ld),lossesg.append(lg)"
   ]
  },
  {
   "cell_type": "code",
   "execution_count": 14,
   "metadata": {},
   "outputs": [
    {
     "data": {
      "text/plain": [
       "[<matplotlib.lines.Line2D at 0x115c5e510>]"
      ]
     },
     "execution_count": 14,
     "metadata": {},
     "output_type": "execute_result"
    },
    {
     "data": {
      "image/png": "[encoded data removed]",
      "text/plain": [
       "<matplotlib.figure.Figure at 0x116d51c10>"
      ]
     },
     "metadata": {},
     "output_type": "display_data"
    }
   ],
   "source": [
    "plt.subplot(211)\n",
    "plt.plot(lossesd,color='blue')\n",
    "plt.subplot(212)\n",
    "plt.plot(lossesg,color='green')"
   ]
  },
  {
   "cell_type": "markdown",
   "metadata": {},
   "source": [
    "# Visualize"
   ]
  },
  {
   "cell_type": "code",
   "execution_count": 15,
   "metadata": {
    "collapsed": true
   },
   "outputs": [],
   "source": [
    "G_test=sess.run(G_z,feed_dict=fd)"
   ]
  },
  {
   "cell_type": "code",
   "execution_count": 16,
   "metadata": {},
   "outputs": [
    {
     "data": {
      "image/png": "[encoded data removed]",
      "text/plain": [
       "<matplotlib.figure.Figure at 0x116270250>"
      ]
     },
     "metadata": {},
     "output_type": "display_data"
    }
   ],
   "source": [
    "#fig = plt.subplot(21)\n",
    "plt.subplot(211)\n",
    "plt.hist(y,bins=50,normed=True,color='blue',range=[-4,4])\n",
    "plt.subplot(212)\n",
    "plt.hist(G_test[:,0],bins=50,normed=True,range=[-4,4],color='green')\n",
    "#plt.xlim(-6,-8)\n",
    "plt.show()"
   ]
  },
  {
   "cell_type": "code",
   "execution_count": 90,
   "metadata": {
    "collapsed": true
   },
   "outputs": [],
   "source": [
    "#plt.plot(X[:,0],X[:,1],'b^',G_test[:,0],G_test[:,1],'ro')\n",
    "# plt.savefig('images/img')"
   ]
  },
  {
   "cell_type": "code",
   "execution_count": null,
   "metadata": {
    "collapsed": true
   },
   "outputs": [],
   "source": []
  }
 ],
 "metadata": {
  "kernelspec": {
   "display_name": "Python [conda env:tensorflow]",
   "language": "python",
   "name": "conda-env-tensorflow-py"
  },
  "language_info": {
   "codemirror_mode": {
    "name": "ipython",
    "version": 2
   },
   "file_extension": ".py",
   "mimetype": "text/x-python",
   "name": "python",
   "nbconvert_exporter": "python",
   "pygments_lexer": "ipython2",
   "version": "2.7.12"
  }
 },
 "nbformat": 4,
 "nbformat_minor": 2
}
