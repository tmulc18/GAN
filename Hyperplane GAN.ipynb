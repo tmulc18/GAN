{
 "cells": [
  {
   "cell_type": "code",
   "execution_count": 214,
   "metadata": {
    "collapsed": false
   },
   "outputs": [],
   "source": [
    "import tensorflow as tf\n",
    "import numpy as np\n",
    "from matplotlib import pyplot as plt\n",
    "%matplotlib inline"
   ]
  },
  {
   "cell_type": "markdown",
   "metadata": {},
   "source": [
    "# Generate linear data\n",
    "\n",
    "Want a distribution of (x,y) pairs that fall on a line\n",
    "\n",
    "$y = 2x+b+z$\n",
    "\n",
    "$z \\sim N(0,\\sigma^2)$"
   ]
  },
  {
   "cell_type": "code",
   "execution_count": 215,
   "metadata": {
    "collapsed": false
   },
   "outputs": [],
   "source": [
    "max_x = 10\n",
    "num_points = 10000\n",
    "b=1\n",
    "sigma = 0.01 \n",
    "x=max_x*np.random.rand(num_points)\n",
    "z = np.random.normal(0,sigma,num_points)\n",
    "y=2*x+b+z"
   ]
  },
  {
   "cell_type": "code",
   "execution_count": 216,
   "metadata": {
    "collapsed": false
   },
   "outputs": [
    {
     "data": {
      "text/plain": [
       "[<matplotlib.lines.Line2D at 0x12ce74c10>]"
      ]
     },
     "execution_count": 216,
     "metadata": {},
     "output_type": "execute_result"
    },
    {
     "data": {
      "image/png": "[encoded data removed]",
      "text/plain": [
       "<matplotlib.figure.Figure at 0x123e73a50>"
      ]
     },
     "metadata": {},
     "output_type": "display_data"
    }
   ],
   "source": [
    "plt.plot(x,y,'o')"
   ]
  },
  {
   "cell_type": "code",
   "execution_count": 217,
   "metadata": {
    "collapsed": false
   },
   "outputs": [],
   "source": [
    "X = np.ndarray([num_points,2])\n",
    "X[:,0] = x\n",
    "X[:,1] = y"
   ]
  },
  {
   "cell_type": "code",
   "execution_count": 218,
   "metadata": {
    "collapsed": false
   },
   "outputs": [
    {
     "data": {
      "text/plain": [
       "(10000, 2)"
      ]
     },
     "execution_count": 218,
     "metadata": {},
     "output_type": "execute_result"
    }
   ],
   "source": [
    "X.shape"
   ]
  },
  {
   "cell_type": "markdown",
   "metadata": {},
   "source": [
    "# Laten space"
   ]
  },
  {
   "cell_type": "code",
   "execution_count": 219,
   "metadata": {
    "collapsed": false
   },
   "outputs": [],
   "source": [
    "z_size=10\n",
    "def Z(batch_size,z_size=10):\n",
    "    return np.random.uniform(-1.,1.,size=[batch_size,z_size])"
   ]
  },
  {
   "cell_type": "markdown",
   "metadata": {},
   "source": [
    "# Miscellanous"
   ]
  },
  {
   "cell_type": "code",
   "execution_count": 220,
   "metadata": {
    "collapsed": true
   },
   "outputs": [],
   "source": [
    "batch_size = 100"
   ]
  },
  {
   "cell_type": "markdown",
   "metadata": {},
   "source": [
    "# Linear discriminator"
   ]
  },
  {
   "cell_type": "code",
   "execution_count": 221,
   "metadata": {
    "collapsed": false
   },
   "outputs": [],
   "source": [
    "g = tf.Graph()\n",
    "with g.as_default():\n",
    "    data_input = tf.placeholder(tf.float32,shape=[batch_size,2])\n",
    "    \n",
    "    W_d1 = tf.Variable(tf.truncated_normal([2,100]))\n",
    "    b_d1 = tf.Variable(tf.zeros([100]))\n",
    "    W_d2 = tf.Variable(tf.truncated_normal([100,1]))\n",
    "    b_d2 = tf.Variable(tf.zeros([1]))\n",
    "    \n",
    "    d_vars = [W_d1,b_d1,W_d2,b_d2]\n",
    "    def D(x,var_l):\n",
    "        W1,b1 = var_l[0],var_l[1]\n",
    "        W2,b2 = var_l[2],var_l[3]\n",
    "        logit=tf.matmul(tf.sigmoid(tf.matmul(x,W1)+b1),W2)+b2\n",
    "        return logit"
   ]
  },
  {
   "cell_type": "markdown",
   "metadata": {},
   "source": [
    "# Linear generator"
   ]
  },
  {
   "cell_type": "code",
   "execution_count": 222,
   "metadata": {
    "collapsed": true
   },
   "outputs": [],
   "source": [
    "with g.as_default():\n",
    "    z_input = tf.placeholder(tf.float32,shape=[batch_size,z_size])\n",
    "    \n",
    "    W_g1 = tf.Variable(tf.truncated_normal([z_size,100]))\n",
    "    b_g1 = tf.Variable(tf.zeros([100]))\n",
    "    W_g2 = tf.Variable(tf.truncated_normal([100,2]))\n",
    "    b_g2 = tf.Variable(tf.zeros([2]))\n",
    "    \n",
    "    g_vars =[W_g1,b_g1,W_g2,b_g2]\n",
    "    \n",
    "    def G(z,var_l):\n",
    "        W1,b1 = var_l[0],var_l[1]\n",
    "        W2,b2 = var_l[2],var_l[3]\n",
    "        \n",
    "        l1 = tf.sigmoid(tf.matmul(z,W1)+b1)\n",
    "        g = tf.matmul(l1,W2)+b2\n",
    "        \n",
    "        return g"
   ]
  },
  {
   "cell_type": "markdown",
   "metadata": {},
   "source": [
    "# Train"
   ]
  },
  {
   "cell_type": "code",
   "execution_count": 223,
   "metadata": {
    "collapsed": false
   },
   "outputs": [],
   "source": [
    "with g.as_default():\n",
    "    D_data = D(data_input,d_vars)\n",
    "    G_z = G(z_input,g_vars)\n",
    "    D_g = D(G_z,d_vars)\n",
    "    \n",
    "    loss_d =-tf.reduce_mean(tf.log(tf.sigmoid(D_data)) +tf.log(1- tf.sigmoid(D_g)))\n",
    "    loss_g = tf.reduce_mean(tf.log(1- tf.sigmoid(D_g)))\n",
    "    \n",
    "    opt = tf.train.AdamOptimizer(learning_rate=.0002,beta1=.5)\n",
    "    \n",
    "    train_d = opt.minimize(loss_d,var_list=d_vars)\n",
    "    train_g = opt.minimize(loss_g,var_list=g_vars)"
   ]
  },
  {
   "cell_type": "markdown",
   "metadata": {},
   "source": [
    "# Other ops"
   ]
  },
  {
   "cell_type": "code",
   "execution_count": 224,
   "metadata": {
    "collapsed": true
   },
   "outputs": [],
   "source": [
    "with g.as_default():\n",
    "    init = tf.initialize_all_variables()"
   ]
  },
  {
   "cell_type": "markdown",
   "metadata": {},
   "source": [
    "# Train Session"
   ]
  },
  {
   "cell_type": "code",
   "execution_count": 225,
   "metadata": {
    "collapsed": true
   },
   "outputs": [],
   "source": [
    "sess = tf.Session(graph = g)\n",
    "sess.run(init)"
   ]
  },
  {
   "cell_type": "code",
   "execution_count": 226,
   "metadata": {
    "collapsed": false
   },
   "outputs": [],
   "source": [
    "epoch_size = X.shape[0]/batch_size"
   ]
  },
  {
   "cell_type": "code",
   "execution_count": 227,
   "metadata": {
    "collapsed": true
   },
   "outputs": [],
   "source": [
    "lossesd,lossesg = [],[]"
   ]
  },
  {
   "cell_type": "code",
   "execution_count": 233,
   "metadata": {
    "collapsed": false
   },
   "outputs": [],
   "source": [
    "num_epochs = 100\n",
    "for _ in range(num_epochs):\n",
    "    for s in range(epoch_size):\n",
    "        fd = {data_input:X[s*batch_size:s*batch_size+batch_size,:],z_input:Z(batch_size,z_size)}\n",
    "        ld,_=sess.run([loss_d,train_d],feed_dict=fd)\n",
    "        lg,_=sess.run([loss_g,train_g],feed_dict=fd)\n",
    "        lossesd.append(ld),lossesg.append(lg)"
   ]
  },
  {
   "cell_type": "code",
   "execution_count": 234,
   "metadata": {
    "collapsed": false
   },
   "outputs": [
    {
     "data": {
      "text/plain": [
       "[<matplotlib.lines.Line2D at 0x12d067110>]"
      ]
     },
     "execution_count": 234,
     "metadata": {},
     "output_type": "execute_result"
    },
    {
     "data": {
      "image/png": "[encoded data removed]",
      "text/plain": [
       "<matplotlib.figure.Figure at 0x1291e4410>"
      ]
     },
     "metadata": {},
     "output_type": "display_data"
    }
   ],
   "source": [
    "plt.plot(lossesg)"
   ]
  },
  {
   "cell_type": "code",
   "execution_count": 235,
   "metadata": {
    "collapsed": false
   },
   "outputs": [
    {
     "data": {
      "text/plain": [
       "[<matplotlib.lines.Line2D at 0x12d834e50>]"
      ]
     },
     "execution_count": 235,
     "metadata": {},
     "output_type": "execute_result"
    },
    {
     "data": {
      "image/png": "[encoded data removed]",
      "text/plain": [
       "<matplotlib.figure.Figure at 0x12d7b8450>"
      ]
     },
     "metadata": {},
     "output_type": "display_data"
    }
   ],
   "source": [
    "plt.plot(lossesd)"
   ]
  },
  {
   "cell_type": "markdown",
   "metadata": {},
   "source": [
    "# Visualize"
   ]
  },
  {
   "cell_type": "code",
   "execution_count": 236,
   "metadata": {
    "collapsed": false
   },
   "outputs": [],
   "source": [
    "G_test=sess.run(G_z,feed_dict=fd)"
   ]
  },
  {
   "cell_type": "code",
   "execution_count": 243,
   "metadata": {
    "collapsed": false
   },
   "outputs": [
    {
     "data": {
      "image/png": "[encoded data removed]",
      "text/plain": [
       "<matplotlib.figure.Figure at 0x1279de210>"
      ]
     },
     "metadata": {},
     "output_type": "display_data"
    }
   ],
   "source": [
    "plt.plot(G_test[:,0],G_test[:,1],'ro',X[:,0],X[:,1],'b')\n",
    "plt.savefig('images/img')"
   ]
  },
  {
   "cell_type": "code",
   "execution_count": null,
   "metadata": {
    "collapsed": true
   },
   "outputs": [],
   "source": []
  }
 ],
 "metadata": {
  "kernelspec": {
   "display_name": "Python [conda env:tensorflow]",
   "language": "python",
   "name": "conda-env-tensorflow-py"
  },
  "language_info": {
   "codemirror_mode": {
    "name": "ipython",
    "version": 2
   },
   "file_extension": ".py",
   "mimetype": "text/x-python",
   "name": "python",
   "nbconvert_exporter": "python",
   "pygments_lexer": "ipython2",
   "version": "2.7.12"
  }
 },
 "nbformat": 4,
 "nbformat_minor": 2
}
